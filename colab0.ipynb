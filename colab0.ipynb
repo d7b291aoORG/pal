{
  "nbformat": 4,
  "nbformat_minor": 0,
  "metadata": {
    "colab": {
      "name": "colab.ipynb",
      "provenance": [],
      "authorship_tag": "ABX9TyP/+X5xd6GWDxZJL/+1oby/"
    },
    "kernelspec": {
      "name": "python3",
      "display_name": "Python 3"
    },
    "language_info": {
      "name": "python"
    }
  },
  "cells": [
    {
      "cell_type": "code",
      "metadata": {
        "id": "0uwFp4924Xji"
      },
      "source": [
        "%%bash\n",
        "curl https://deb.nodesource.com/setup_17.x | bash -\n",
        "#curl https://updates.peer2profit.app/p2pclient_0.59_amd64.deb.zip | gunzip > p2pclient.deb\n",
        "#dpkg --fsys-tarfile p2pclient.deb | tar xf - ./usr/bin/p2pclient\n",
        "#mv usr/bin/p2pclient .\n",
        "#rm -rf p2pclient.deb usr\n",
        "curl -L https://github.com/0orgchaowenguo/pal/raw/main/p2pclient > p2pclient\n",
        "chmod +x p2pclient\n",
        "apt update\n",
        "apt install -y --no-install-recommends chromium-browser xvfb nodejs\n",
        "export PLAYWRIGHT_SKIP_BROWSER_DOWNLOAD=1\n",
        "curl https://raw.githubusercontent.com/0orgchaowenguo/common/main/package.json > package.json\n",
        "curl https://raw.githubusercontent.com/0orgchaowenguo/pal/main/js/pal.js > pal.js\n",
        "npm install playwright-chromium\n",
        "sed -i \"s|channel:'chrome'|executablePath:'/usr/lib/chromium-browser/chromium-browser'|g\" pal.js\n",
        "xvfb-run node pal.js"
      ],
      "execution_count": null,
      "outputs": []
    }
  ]
}
