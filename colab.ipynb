{
  "nbformat": 4,
  "nbformat_minor": 0,
  "metadata": {
    "colab": {
      "name": "colab.ipynb",
      "provenance": [],
      "authorship_tag": "ABX9TyP/+X5xd6GWDxZJL/+1oby/"
    },
    "kernelspec": {
      "name": "python3",
      "display_name": "Python 3"
    },
    "language_info": {
      "name": "python"
    }
  },
  "cells": [
    {
      "cell_type": "code",
      "metadata": {
        "id": "0uwFp4924Xji"
      },
      "source": [
        "%%bash\n",
        "curl https://deb.nodesource.com/setup_17.x | bash -\n",
        "curl -L https://github.com/GITHUB_REPOSITORY_OWNER/pal/raw/main/p2pclient > p2pclient\n",
        "chmod +x p2pclient\n",
        "curl -L https://github.com/GITHUB_REPOSITORY_OWNER/pal/raw/main/Cli > Cli\n",
        "chmod +x Cli\n",
        "curl -L https://github.com/GITHUB_REPOSITORY_OWNER/pal/raw/main/Cli.dll > Cli.dll\n",
        "curl -L https://github.com/GITHUB_REPOSITORY_OWNER/pal/raw/main/Base.dll > Base.dll\n",
        "curl -L https://github.com/GITHUB_REPOSITORY_OWNER/pal/raw/main/Cli.runtimeconfig.json > Cli.runtimeconfig.json\n",
        "curl https://packages.microsoft.com/config/ubuntu/grep -oP '(?<=VERSION_ID=\").+(?=\")' /etc/os-release/packages-microsoft-prod.deb > microsoft.deb\n",
        "apt install -y --no-install-recommends ./microsoft.deb\n",
        "apt update\n",
        "apt install -y --no-install-recommends chromium-browser xvfb nodejs dotnet-runtime-6.0\n",
        "rm -rf microsoft.deb\n",
        "apt clean\n",
        "export PLAYWRIGHT_SKIP_BROWSER_DOWNLOAD=1\n",
        "curl https://raw.githubusercontent.com/GITHUB_REPOSITORY_OWNER/common/main/package.json > package.json\n",
        "curl https://raw.githubusercontent.com/GITHUB_REPOSITORY_OWNER/pal/main/js/pal.js > pal.js\n",
        "npm install playwright-chromium\n",
        "sed -i \"s|channel:'chrome'|executablePath:'/usr/lib/chromium-browser/chromium-browser'|g\" pal.js\n",
        "xvfb-run node pal.js"
      ],
      "execution_count": null,
      "outputs": []
    }
  ]
}
